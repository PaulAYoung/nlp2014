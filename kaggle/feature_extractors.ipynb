{
 "metadata": {
  "name": "",
  "signature": "sha256:932fc2f9af57e598b54ba45515a62998a8932ec1822c1a6febf9bf25fdc870a9"
 },
 "nbformat": 3,
 "nbformat_minor": 0,
 "worksheets": [
  {
   "cells": [
    {
     "cell_type": "code",
     "collapsed": false,
     "input": [
      "import re\n",
      "import random\n",
      "from os import path\n",
      "\n",
      "from testing_util import get_terms\n",
      "import nltk"
     ],
     "language": "python",
     "metadata": {},
     "outputs": [
      {
       "ename": "ImportError",
       "evalue": "cannot import name get_terms",
       "output_type": "pyerr",
       "traceback": [
        "\u001b[1;31m---------------------------------------------------------------------------\u001b[0m\n\u001b[1;31mImportError\u001b[0m                               Traceback (most recent call last)",
        "\u001b[1;32m<ipython-input-2-eaed3979feb1>\u001b[0m in \u001b[0;36m<module>\u001b[1;34m()\u001b[0m\n\u001b[0;32m      3\u001b[0m \u001b[1;32mfrom\u001b[0m \u001b[0mos\u001b[0m \u001b[1;32mimport\u001b[0m \u001b[0mpath\u001b[0m\u001b[1;33m\u001b[0m\u001b[0m\n\u001b[0;32m      4\u001b[0m \u001b[1;33m\u001b[0m\u001b[0m\n\u001b[1;32m----> 5\u001b[1;33m \u001b[1;32mfrom\u001b[0m \u001b[0mtesting_util\u001b[0m \u001b[1;32mimport\u001b[0m \u001b[0mget_terms\u001b[0m\u001b[1;33m\u001b[0m\u001b[0m\n\u001b[0m\u001b[0;32m      6\u001b[0m \u001b[1;32mimport\u001b[0m \u001b[0mnltk\u001b[0m\u001b[1;33m\u001b[0m\u001b[0m\n",
        "\u001b[1;31mImportError\u001b[0m: cannot import name get_terms"
       ]
      }
     ],
     "prompt_number": 2
    },
    {
     "cell_type": "code",
     "collapsed": false,
     "input": [
      "def category_term_scorer(sample_list):\n",
      "    \"\"\"\n",
      "    takes a list of tuples in format (category,text) and creates scores for each term\n",
      "    for its relevance to each category\n",
      "    \"\"\"\n",
      "    categories = {}\n",
      "    \n",
      "    for c,s in sample_list:\n",
      "        if c not in categories:\n",
      "            categories[c]=[]\n",
      "        for w in get_terms(s):\n",
      "            categories[c].append(w)\n",
      "    \n",
      "    fd_all = nltk.FreqDist([w for wl in categories.values() for w in wl])\n",
      "    \n",
      "    fd_categories = {c:nltk.FreqDist(v) for c,v in categories.iteritems()}\n",
      "    \n",
      "    term_scores = {}\n",
      "    for term in fd_all.iterkeys():\n",
      "        d = {}\n",
      "        for c,fd in fd_categories.iteritems():\n",
      "            d[c]= 1 if fd.freq(term) > fd_all.freq(term) else 0\n",
      "        term_scores[term]=d\n",
      "    \n",
      "    return term_scores"
     ],
     "language": "python",
     "metadata": {},
     "outputs": []
    },
    {
     "cell_type": "code",
     "collapsed": false,
     "input": [
      "class TermScoreClassiffier(nltk.classify.ClassifierI):\n",
      "    \"\"\"\n",
      "    Tries to classify text using scored terms. \n",
      "    \"\"\"\n",
      "    \n",
      "    def __init__(self, samples=None, scorer=category_term_scorer, terms=None, key=\"TermScore\"):\n",
      "        \"\"\"\n",
      "        Params:\n",
      "        \n",
      "        samples -- a list of samples where each entry is a tuple in format (category,text)\n",
      "                this argument only works if scorer is also passed. \n",
      "                \n",
      "        scorer -- a function that takes the list of samples and scores them. Must return a dictionary\n",
      "                in the same format as terms\n",
      "        \n",
      "        terms -- a dictionary of terms where keys are the terms and values are dictionaries \n",
      "        with the score for each category. ie: {\"term\": {\"c1\":0, \"c2\":10}\n",
      "        \n",
      "        key -- The key to used in the returned dictionary. \n",
      "        \"\"\"\n",
      "        self.key = key\n",
      "        \n",
      "        if samples and scorer:\n",
      "            terms = scorer(samples)\n",
      "        \n",
      "        if not terms:\n",
      "            raise ValueError(\"You must either pass a list of samples or a list of terms\")\n",
      "        \n",
      "        self.terms = terms\n",
      "    \n",
      "    def __call__(self, text):\n",
      "        \"\"\"\n",
      "        Picks a category for text using the term list\n",
      "        \"\"\"\n",
      "        \n",
      "        tokens = nltk.word_tokenize(text)\n",
      "        scores = {}\n",
      "        for w in tokens:\n",
      "            if w in self.terms:\n",
      "                for c,s in self.terms[w].iteritems():\n",
      "                    if c in scores:\n",
      "                        scores[c] += s\n",
      "                    else:\n",
      "                        scores[c] = s\n",
      "        \n",
      "        totals = scores.items()\n",
      "        totals.sort(key= lambda s:s[1], reverse=True)\n",
      "        \n",
      "        return {self.key: totals[0][0]}"
     ],
     "language": "python",
     "metadata": {},
     "outputs": []
    }
   ],
   "metadata": {}
  }
 ]
}