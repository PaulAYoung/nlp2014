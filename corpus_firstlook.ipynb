{
 "metadata": {
  "name": "",
  "signature": "sha256:0f58f34b47870a401b2b18df597d7cd8b036ca2480e93d18a45149abfd2cc9ad"
 },
 "nbformat": 3,
 "nbformat_minor": 0,
 "worksheets": [
  {
   "cells": [
    {
     "cell_type": "markdown",
     "metadata": {},
     "source": [
      "#Corpus Description\n",
      "I am using transcripts of presidential debates from http://www.debates.org/index.php?page=debate-transcripts. These are transcripts of presidential debates from 1960 until the most recent debates in 2012. \n",
      "\n",
      "I created a python script, shared on github, to help download the debates to text files.\n",
      "\n",
      "The text is nested in html markup which separates statements somewhat. There are also names inserted to indicate who is speaking. The files my script generates weigh in at 4.3 megabytes. \n",
      "\n",
      "##Corpus Size\n",
      "###With html:\n",
      "String length: 4,560,289\n",
      "\n",
      "Length split by spaces: 660,104\n",
      "\n",
      "###After using nltk.clean_html:\n",
      "String length: 3,154,990\n",
      "\n",
      "Length split by spaces: 574,570"
     ]
    },
    {
     "cell_type": "code",
     "collapsed": false,
     "input": [
      "from os import path\n",
      "\n",
      "import nltk\n",
      "from nltk.corpus.reader import PlaintextCorpusReader"
     ],
     "language": "python",
     "metadata": {},
     "outputs": [],
     "prompt_number": 15
    },
    {
     "cell_type": "code",
     "collapsed": false,
     "input": [
      "corpus_path = path.join(path.curdir, \"pres_debates\")\n",
      "corpus = PlaintextCorpusReader(corpus_path, \".*.txt\")"
     ],
     "language": "python",
     "metadata": {},
     "outputs": [],
     "prompt_number": 16
    },
    {
     "cell_type": "code",
     "collapsed": false,
     "input": [
      "rawcorp = corpus.raw()"
     ],
     "language": "python",
     "metadata": {},
     "outputs": [],
     "prompt_number": 17
    },
    {
     "cell_type": "code",
     "collapsed": false,
     "input": [
      "len(rawcorp)"
     ],
     "language": "python",
     "metadata": {},
     "outputs": [
      {
       "metadata": {},
       "output_type": "pyout",
       "prompt_number": 18,
       "text": [
        "4560289"
       ]
      }
     ],
     "prompt_number": 18
    },
    {
     "cell_type": "code",
     "collapsed": false,
     "input": [
      "len(rawcorp.split(\" \"))"
     ],
     "language": "python",
     "metadata": {},
     "outputs": [
      {
       "metadata": {},
       "output_type": "pyout",
       "prompt_number": 19,
       "text": [
        "660104"
       ]
      }
     ],
     "prompt_number": 19
    },
    {
     "cell_type": "code",
     "collapsed": false,
     "input": [
      "cleaned = nltk.clean_html(rawcorp)"
     ],
     "language": "python",
     "metadata": {},
     "outputs": [],
     "prompt_number": 20
    },
    {
     "cell_type": "code",
     "collapsed": false,
     "input": [
      "len(cleaned)"
     ],
     "language": "python",
     "metadata": {},
     "outputs": [
      {
       "metadata": {},
       "output_type": "pyout",
       "prompt_number": 22,
       "text": [
        "3154990"
       ]
      }
     ],
     "prompt_number": 22
    },
    {
     "cell_type": "code",
     "collapsed": false,
     "input": [
      "len(cleaned.split(\" \"))"
     ],
     "language": "python",
     "metadata": {},
     "outputs": [
      {
       "metadata": {},
       "output_type": "pyout",
       "prompt_number": 23,
       "text": [
        "574570"
       ]
      }
     ],
     "prompt_number": 23
    }
   ],
   "metadata": {}
  }
 ]
}