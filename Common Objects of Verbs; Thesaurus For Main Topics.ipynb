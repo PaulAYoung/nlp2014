{
 "metadata": {
  "name": "",
  "signature": "sha256:2ad5e2d60f0c783b6b6d52294d843b4b65e9341623340b1a5b38afa5373f15df"
 },
 "nbformat": 3,
 "nbformat_minor": 0,
 "worksheets": [
  {
   "cells": [
    {
     "cell_type": "markdown",
     "metadata": {},
     "source": [
      "## 1. Common Objects of Verbs ##\n",
      "The Church and Hanks reading shows how interesting semantics can be found by looking at very simple patterns. For instance, if we look at what gets drunk (the object of the verb drink) we can automatically acquire a list of beverages. Similarly, if we find an informative verb in a text about mythology, and look at the subjects of certain verbs, we might be able to group all the gods' names together by seeing who does the blessing and smoting.\n",
      "More generally, looking at common objects of verbs, or in some cases, subjects of verbs, we have another piece of evidence for grouping similar words together.\n",
      "\n",
      "**Find frequent verbs:** Using your tagged collection from the previous assignment, first pull out verbs and then rank by frequency (if you like, you might use WordNet's morphy() to normalize them into their lemma form, but this is not required). Print out the top 40 most frequent verbs and take a look at them:"
     ]
    },
    {
     "cell_type": "code",
     "collapsed": false,
     "input": [
      "import nltk\n",
      "import re\n",
      "from nltk.corpus import brown"
     ],
     "language": "python",
     "metadata": {},
     "outputs": [],
     "prompt_number": 1
    },
    {
     "cell_type": "code",
     "collapsed": false,
     "input": [
      "import debates_util"
     ],
     "language": "python",
     "metadata": {},
     "outputs": [],
     "prompt_number": 2
    },
    {
     "cell_type": "code",
     "collapsed": false,
     "input": [
      "debates = nltk.clean_html(debates_util.load_pres_debates().raw())"
     ],
     "language": "python",
     "metadata": {},
     "outputs": [],
     "prompt_number": 3
    },
    {
     "cell_type": "code",
     "collapsed": false,
     "input": [
      "\"\"\"\n",
      "Returns the corpus for the presidential debates with words tokenized by regex below. \n",
      "\"\"\"\n",
      "\n",
      "token_regex= \"\"\"(?x)\n",
      "    # taken from ntlk book example\n",
      "    ([A-Z]\\.)+        # abbreviations, e.g. U.S.A.\n",
      "    | \\w+(-\\w+)*        # words with optional internal hyphens\n",
      "    | \\$?\\d+(\\.\\d+)?%?  # currency and percentages, e.g. $12.40, 82%\n",
      "    | \\.\\.\\.            # ellipsis\n",
      "    | [][.,;\"'?():-_`]  # these are separate tokens\n",
      "\"\"\"\n",
      "\n",
      "sent_tokenizer=nltk.data.load('tokenizers/punkt/english.pickle')"
     ],
     "language": "python",
     "metadata": {},
     "outputs": [],
     "prompt_number": 4
    },
    {
     "cell_type": "code",
     "collapsed": false,
     "input": [
      "tokens = nltk.regexp_tokenize(debates, token_regex)"
     ],
     "language": "python",
     "metadata": {},
     "outputs": [],
     "prompt_number": 5
    },
    {
     "cell_type": "code",
     "collapsed": false,
     "input": [
      "def build_backoff_tagger (train_sents):\n",
      "    t0 = nltk.DefaultTagger('NN')\n",
      "    t1 = nltk.UnigramTagger(train_sents, backoff=t0)\n",
      "    t2 = nltk.BigramTagger(train_sents, backoff=t1)\n",
      "    return t2\n",
      "\n",
      "tagger = build_backoff_tagger(brown.tagged_sents())"
     ],
     "language": "python",
     "metadata": {},
     "outputs": [],
     "prompt_number": 6
    },
    {
     "cell_type": "code",
     "collapsed": false,
     "input": [
      "tags = tagger.tag(tokens)"
     ],
     "language": "python",
     "metadata": {},
     "outputs": [],
     "prompt_number": 7
    },
    {
     "cell_type": "code",
     "collapsed": false,
     "input": [
      "sents = list(sent_tokenizer.sentences_from_tokens(tokens))"
     ],
     "language": "python",
     "metadata": {},
     "outputs": [],
     "prompt_number": 8
    },
    {
     "cell_type": "code",
     "collapsed": false,
     "input": [
      "v_fd = nltk.FreqDist([t[0] for t in tags if re.match(r\"V.*\", t[1])])\n",
      "v_fd.items()[50:100]"
     ],
     "language": "python",
     "metadata": {},
     "outputs": [
      {
       "metadata": {},
       "output_type": "pyout",
       "prompt_number": 9,
       "text": [
        "[('mean', 207),\n",
        " ('asked', 206),\n",
        " ('support', 206),\n",
        " ('called', 195),\n",
        " ('trying', 195),\n",
        " ('like', 191),\n",
        " ('won', 191),\n",
        " ('hope', 171),\n",
        " ('seen', 170),\n",
        " ('change', 169),\n",
        " ('thank', 169),\n",
        " ('wants', 169),\n",
        " ('use', 167),\n",
        " ('stand', 165),\n",
        " ('gone', 162),\n",
        " ('respond', 162),\n",
        " ('used', 162),\n",
        " ('spend', 160),\n",
        " ('provide', 159),\n",
        " ('thought', 159),\n",
        " ('took', 158),\n",
        " ('create', 157),\n",
        " ('worked', 155),\n",
        " ('comes', 154),\n",
        " ('feel', 154),\n",
        " ('happened', 154),\n",
        " ('goes', 153),\n",
        " ('reduce', 153),\n",
        " ('lost', 152),\n",
        " ('talked', 151),\n",
        " ('raise', 150),\n",
        " ('happen', 149),\n",
        " ('supported', 147),\n",
        " ('taken', 147),\n",
        " ('cuts', 144),\n",
        " ('deal', 143),\n",
        " ('lead', 143),\n",
        " ('coming', 142),\n",
        " ('opposed', 140),\n",
        " ('means', 139),\n",
        " ('taking', 139),\n",
        " ('told', 137),\n",
        " ('running', 135),\n",
        " ('involved', 134),\n",
        " ('passed', 134),\n",
        " ('Look', 132),\n",
        " ('build', 129),\n",
        " ('meet', 129),\n",
        " ('send', 129),\n",
        " ('protect', 123)]"
       ]
      }
     ],
     "prompt_number": 9
    },
    {
     "cell_type": "markdown",
     "metadata": {},
     "source": [
      "**Pick 2 out interesting verbs:** Next manually pick out two verbs to look at in detail that look interesting to you. Try to pick some for which the objects will be interesting and will form a pattern of some kind.  Find all the sentences in your corpus that contain these verbs.\n"
     ]
    },
    {
     "cell_type": "code",
     "collapsed": false,
     "input": [
      "defend_sents = [s for s in sents if \"defend\" in s]\n",
      "[\" \".join(s) for s in defend_sents[0:20]]"
     ],
     "language": "python",
     "metadata": {},
     "outputs": [
      {
       "metadata": {},
       "output_type": "pyout",
       "prompt_number": 10,
       "text": [
        "[\"I ' m just as sick as you are by having to wake up and figure out how to defend myself every day .\",\n",
        " 'WHITE : Many times in its history the United States has gone to war in order to defend freedom in other lands .',\n",
        " 'WHITE : Vice-President Bush , both Cuba and Nicaragua are reported to be making extensive preparations to defend themselves against an American invasion , which they claim could come this fall .',\n",
        " 'I found it to be an issue in trying to defend my tax relief package .',\n",
        " 'And I am going to continue to defend my record and defend my propositions against what I think are exaggerations .',\n",
        " 'And I have every right in the world to defend my record and positions .',\n",
        " 'So the question is : would you take military action to defend Berlin ?',\n",
        " \"And the question is if you surrender or indicate in advance that you ' re not going to defend any part of the free world , and you figure that ' s going to satisfy them , it doesn ' t satisfy them .\",\n",
        " 'The whole th the United States now has a treaty which I voted for in the United States Senate in 1955 to defend Formosa and the Pescadores Island .',\n",
        " \"I suggest that if Formosa is attacked or the Pescadores , or if there ' s any military action in any area which indicates an attack on Formosa and the Pescadores , then of course the United States is at war to defend its treaty .\",\n",
        " \"And that amendment put the Senate of the United States on record with a majority of the Senator ' s own party voting for it , as well as the majority of Republicans put them on record against the very position that the Senator takes now of surrendering , of indicating in advance , that the United States will not defend the offshore islands .\",\n",
        " 'My point is this : that once you do this follow this course of action of indicating that you are not going to defend a particular area , the inevitable result is that it encourages a man who is determined to conquer the world to press you to the point of no return .',\n",
        " \"But certainly we ' re not going to have peace by giving in and indicating in advance that we are not going to defend what has become a symbol of freedom .\",\n",
        " 'Therefore that treaty does not commit the United States to defend anything except Formosa and the Pescadores , and to deal with acts against that treaty area .',\n",
        " 'I would take any action necessary to defend the treaty , Formosa , and the Pescadores Island .',\n",
        " 'I want the men and women of our Armed Forces to have the support they need to defend us ; the support they need when they risk our lives to keep us free and to keep this country free .',\n",
        " 'I will defend the right of Roe v .',\n",
        " \"BUSH : The best way to take the pressure off our troops is to succeed in Iraq , is to train Iraqis so they can do the hard work of democracy , is to give them a chance to defend their country , which is precisely what we ' re doing .\",\n",
        " \"In order to defend ourselves , we ' d have to get international approval .\",\n",
        " 'Just as I fought for our country as a young man , with the same passion I will fight to defend this nation that I love .']"
       ]
      }
     ],
     "prompt_number": 10
    },
    {
     "cell_type": "code",
     "collapsed": false,
     "input": [
      "help_sents = [s for s in sents if \"help\" in s]\n",
      "[\" \".join(s) for s in help_sents[0:20]]"
     ],
     "language": "python",
     "metadata": {},
     "outputs": [
      {
       "metadata": {},
       "output_type": "pyout",
       "prompt_number": 11,
       "text": [
        "[\"Here ' s some thing that ' ll help .\",\n",
        " \"Now I ' ve come out with a new agenda for America ' s renewal , a plan that I believe really will help stimulate the growth of this economy .\",\n",
        " 'And I need the help of everybody across this country to get it passed in a substantial way by the Congress .',\n",
        " 'And then you can sit down and say , help me do what we should for the cities .',\n",
        " 'I think you have to help doctors stop practicing defensive medicine .',\n",
        " \"People don ' t dare medical practitioners , to help somebody along the highway that are hurt because they ' re afraid that some lawyer ' s going to come along and get a big lawsuit .\",\n",
        " \"We don ' t feel that you ' re in any way hurting anybody else by reaching out with affirmative action to help those who ' ve been disenfranchised .\",\n",
        " 'We believe in trying something new to help these black teenage kids ; the minimum wage differential that says , \" Look , \" to an employer , \" hire these guys .',\n",
        " \"We ' ve got it on civil rights legislation , minority set-asides , more help for black colleges , and we ' ve got it in terms of an economy that ' s offering people opportunity and hope instead of despair .\",\n",
        " 'And in the meantime , the needy are getting more help .',\n",
        " \"I am sure of my facts , and we are trying to help and I think we ' re doing a reasonable job , but we are not going to rest until every single American that wants a job and until this prosperity and this recovery that ' s benefiting many Americans , benefits all Americans .\",\n",
        " 'Gemayel , that wants to help fight against terrorism .',\n",
        " 'But let me help you with the difference , Mrs .',\n",
        " \"As soon as they have a change that allows the people to speak freely , they ' re wanting to develop some kind of blueprint that will help them be like us more , freedom , free markets , political freedom .\",\n",
        " \"I think , for example , if we ' re convinced that a Third World country that ' s got a lot of debt would reform itself , that the money wouldn ' t go into the hands of a few but would go to help people , I think it makes sense for us to use our wealth in that way , or to trade debt for valuable rain forest lands , makes that much sense , yes .\",\n",
        " \"We can help build coalitions but we can ' t put our troops all around the world .\",\n",
        " \"It ' s important for NATO to be strong and confident and to help keep the peace in Europe .\",\n",
        " \"I think our troops ought to be used to help overthrow the dictator when it ' s in our best interests .\",\n",
        " \"And that ' s a case where we need to use our influence to have countries in Africa come together and help deal with the situation .\",\n",
        " 'We did , actually , send troops into Rwanda to help with the humanitarian relief measures .']"
       ]
      }
     ],
     "prompt_number": 11
    },
    {
     "cell_type": "markdown",
     "metadata": {},
     "source": [
      "**Find common objects:** Now write a chunker to find the simple noun phrase objects of these four verbs and see if they tell you anything interesting about your collection.  Don't worry about making the noun phrases perfect; you can use the chunker from the first part of this homework if you like.  Print out the common noun phrases and take a look.  Write the code below, show some of the output, and then reflect on that output in a few sentences.  \n"
     ]
    },
    {
     "cell_type": "code",
     "collapsed": false,
     "input": [
      "np_chunker = r\"\"\"\n",
      "    VPHRASE: {<V.*><DT|AT|P.*|JJ.*|IN>*<NN.*>+}\n",
      "    \"\"\"\n",
      "\n",
      "np_parser = nltk.RegexpParser(np_chunker)"
     ],
     "language": "python",
     "metadata": {},
     "outputs": [],
     "prompt_number": 12
    },
    {
     "cell_type": "code",
     "collapsed": false,
     "input": [
      "t_defend = [tagger.tag(s) for s in defend_sents]\n",
      "t_help = [tagger.tag(s) for s in help_sents]"
     ],
     "language": "python",
     "metadata": {},
     "outputs": [],
     "prompt_number": 13
    },
    {
     "cell_type": "code",
     "collapsed": false,
     "input": [
      "c_defend = [np_parser.parse(s) for s in t_defend]\n",
      "c_help = [np_parser.parse(s) for s in t_help]"
     ],
     "language": "python",
     "metadata": {},
     "outputs": [],
     "prompt_number": 14
    },
    {
     "cell_type": "code",
     "collapsed": false,
     "input": [
      "fd_defend = nltk.FreqDist([\" \".join(w[0] for w in sub[1:]) for t in c_defend for sub in t.subtrees() if sub.node==\"VPHRASE\" and sub[0][0].lower()==\"defend\"])\n",
      "fd_defend.items()[0:10]"
     ],
     "language": "python",
     "metadata": {},
     "outputs": [
      {
       "metadata": {},
       "output_type": "pyout",
       "prompt_number": 15,
       "text": [
        "[('this country', 3),\n",
        " ('freedom', 2),\n",
        " ('my record', 2),\n",
        " ('the honor', 2),\n",
        " ('this nation', 2),\n",
        " ('Guantanamo', 1),\n",
        " ('a particular area', 1),\n",
        " ('against a nuclear war', 1),\n",
        " ('against incoming missiles', 1),\n",
        " ('against the enemy', 1)]"
       ]
      }
     ],
     "prompt_number": 15
    },
    {
     "cell_type": "code",
     "collapsed": false,
     "input": [
      "fd_help = nltk.FreqDist([\" \".join(w[0] for w in sub[1:]) for t in c_help for sub in t.subtrees() if sub.node==\"VPHRASE\" and sub[0][0].lower()==\"help\"])\n",
      "fd_help.items()[0:10]"
     ],
     "language": "python",
     "metadata": {},
     "outputs": [
      {
       "metadata": {},
       "output_type": "pyout",
       "prompt_number": 16,
       "text": [
        "[('people', 19),\n",
        " ('families', 4),\n",
        " ('the economy', 4),\n",
        " ('local school districts', 3),\n",
        " ('Jeremy', 2),\n",
        " ('a great deal', 2),\n",
        " ('parents', 2),\n",
        " ('small businesses', 2),\n",
        " ('the farmer', 2),\n",
        " ('the people', 2)]"
       ]
      }
     ],
     "prompt_number": 16
    },
    {
     "cell_type": "markdown",
     "metadata": {},
     "source": [
      "##Reflection\n",
      "\n",
      "Interesting results confirming many of my vague ideas of the things polticians have discussed in the past. A further modification would be to try and group the noun phrases together, for example this country and this nation refer to the same thing. \n",
      "\n",
      "I would also like to do this split up by each debate to see the change in nouns from election to election. "
     ]
    },
    {
     "cell_type": "markdown",
     "metadata": {},
     "source": [
      "## 2. Identify Main Topics from WordNet Hypernms ##\n",
      "First read about the code supplied below; at the end you'll be asked to do an exercise."
     ]
    },
    {
     "cell_type": "code",
     "collapsed": false,
     "input": [
      "from nltk.corpus import wordnet as wn\n",
      "from nltk.corpus import brown\n",
      "from nltk.corpus import stopwords"
     ],
     "language": "python",
     "metadata": {},
     "outputs": [],
     "prompt_number": 17
    },
    {
     "cell_type": "markdown",
     "metadata": {},
     "source": [
      "This code first pulls out the most frequent words from a section of the brown corpus after removing stop words.  It lowercases everything, but should really be doing much smarter things with tokenization and phrases and so on. "
     ]
    },
    {
     "cell_type": "code",
     "collapsed": false,
     "input": [
      "def preprocess_terms():\n",
      "    # select a subcorpus of brown to experiment with\n",
      "    words = [word.lower() for word in brown.words(categories=\"science_fiction\") if word.lower() not in stopwords.words('english')]\n",
      "    # count up the words\n",
      "    fd = nltk.FreqDist(words)\n",
      "    # show some sample words\n",
      "    print ' '.join(fd.keys()[100:150])\n",
      "    return fd\n",
      "fd = preprocess_terms()"
     ],
     "language": "python",
     "metadata": {},
     "outputs": [
      {
       "output_type": "stream",
       "stream": "stdout",
       "text": [
        "angel around came captain couldn't day face help helva's kind longer look lost must nogol oh outside place saw something words another away called can't come da dead digby gapt give hands however isn't live looked macneff maybe pain part power problem siddo smiled space there's took water yes ago\n"
       ]
      }
     ],
     "prompt_number": 18
    },
    {
     "cell_type": "markdown",
     "metadata": {},
     "source": [
      "Then makes a *very naive* guess at which are the most important words.  This is where some term weighting should take place."
     ]
    },
    {
     "cell_type": "code",
     "collapsed": false,
     "input": [
      "def find_important_terms(fd):\n",
      "    important_words = fd.keys()[100:500]\n",
      "    return important_words\n",
      "\n",
      "important_terms = find_important_terms(fd)"
     ],
     "language": "python",
     "metadata": {},
     "outputs": [],
     "prompt_number": 19
    },
    {
     "cell_type": "markdown",
     "metadata": {},
     "source": [
      "The code below is a very crude way to see what the most common \"topics\" are among the \"important\" words, according to WordNet.  It does this by looking at the immediate hypernym of every sense of a wordform for those wordforms that are found to be nouns in WordNet.  This is problematic because many of these senses will be incorrect and also often the hypernym elides the specific meaning of the word, but if you compare, say *romance* to *science fiction* in brown, you do see differences in the results. "
     ]
    },
    {
     "cell_type": "code",
     "collapsed": false,
     "input": [
      "# Count the direct hypernyms for every sense of each wordform.\n",
      "# This is very crude.  It should convert the wordform to a lemma, and should\n",
      "# be smarter about selecting important words and finding two-word phrases, etc.\n",
      "\n",
      "# Nonetheless, you get intersting differences between, say, scifi and romance.\n",
      "def categories_from_hypernyms(termlist):\n",
      "    hypterms = []                        \n",
      "    for term in termlist:                  # for each term\n",
      "        s = wn.synsets(term.lower(), 'n')  # get its nominal synsets\n",
      "        for syn in s:                      # for each synset\n",
      "            for hyp in syn.hypernyms():    # It has a list of hypernyms\n",
      "                hypterms = hypterms + [hyp.name]  # Extract the hypernym name and add to list\n",
      "\n",
      "    hypfd = nltk.FreqDist(hypterms)\n",
      "    print \"Show most frequent hypernym results\"\n",
      "    return [(count, name, wn.synset(name).definition) for (name, count) in hypfd.items()[:25]] \n",
      "    \n",
      "categories_from_hypernyms(important_terms)"
     ],
     "language": "python",
     "metadata": {},
     "outputs": [
      {
       "output_type": "stream",
       "stream": "stdout",
       "text": [
        "Show most frequent hypernym results\n"
       ]
      },
      {
       "metadata": {},
       "output_type": "pyout",
       "prompt_number": 20,
       "text": [
        "[(18, 'person.n.01', 'a human being'),\n",
        " (14, 'time_period.n.01', 'an amount of time'),\n",
        " (9,\n",
        "  'people.n.01',\n",
        "  '(plural) any group of human beings (men or women or children) collectively'),\n",
        " (8, 'activity.n.01', 'any specific behavior'),\n",
        " (7, 'condition.n.01', 'a state at a particular time'),\n",
        " (7, 'happening.n.01', 'an event that happens'),\n",
        " (7, 'time_unit.n.01', 'a unit for measuring time periods'),\n",
        " (7, 'tract.n.01', 'an extended area of land'),\n",
        " (6, 'location.n.01', 'a point or extent in space'),\n",
        " (6,\n",
        "  'time.n.03',\n",
        "  'an indefinite period (usually marked by specific attributes or activities)'),\n",
        " (6, 'unit.n.03', 'an organization regarded as part of a larger social group'),\n",
        " (5,\n",
        "  'body_part.n.01',\n",
        "  'any part of an organism such as an organ or extremity'),\n",
        " (5,\n",
        "  'collection.n.01',\n",
        "  'several things grouped together or considered as a whole'),\n",
        " (5, 'group.n.01', 'any number of entities (members) considered as a unit'),\n",
        " (5, 'information.n.01', 'a message received and understood'),\n",
        " (5,\n",
        "  'statement.n.01',\n",
        "  'a message that is stated or declared; a communication (oral or written) setting forth particulars or facts etc'),\n",
        " (4, 'actor.n.01', 'a theatrical performer'),\n",
        " (4, 'adult.n.01', 'a fully developed person from maturity onward'),\n",
        " (4, 'appearance.n.01', 'outward or visible aspect of a person or thing'),\n",
        " (4,\n",
        "  'attempt.n.01',\n",
        "  'earnest and conscientious activity intended to do or accomplish something'),\n",
        " (4, 'auditory_communication.n.01', 'communication that relies on hearing'),\n",
        " (4, 'being.n.01', 'the state or fact of existing'),\n",
        " (4, 'celestial_body.n.01', 'natural objects visible in the sky'),\n",
        " (4,\n",
        "  'container.n.01',\n",
        "  'any object that can be used to hold things (especially a large metal boxlike object of standardized dimensions that can be loaded from one form of transport to another)'),\n",
        " (4,\n",
        "  'content.n.05',\n",
        "  'the sum or range of what has been perceived, discovered, or learned')]"
       ]
      }
     ],
     "prompt_number": 20
    },
    {
     "cell_type": "markdown",
     "metadata": {},
     "source": [
      "**Here is the question** Modify this code in some way to do a better job of using WordNet to summarize terms.  You can trim senses in a better way, or traverse hypernyms differently.  You don't have to use hypernyms; you can use any WordNet relations you like, or chose your terms in another way.  You can also use other parts of speech if you like.  "
     ]
    },
    {
     "cell_type": "markdown",
     "metadata": {},
     "source": [
      "####Approach:\n",
      "This is a modification of my approach in the keyphrase extraction assignement. I am looking at they hypernym path of the most common phrases and finding the most common hypernyms. These are filtered by both their distance from the synset and their depth in the hypernym tree. "
     ]
    },
    {
     "cell_type": "code",
     "collapsed": false,
     "input": [
      "def get_hypernyms(synsets, max_distance=100):\n",
      "    \"\"\"\n",
      "    Takes a list of synsets (as generated by wn.synsets) and returns a list of all hypernyms. \n",
      "    \"\"\"\n",
      "    hypernyms = set()\n",
      "    for synset in synsets:\n",
      "        for path in synset.hypernym_paths():\n",
      "            hypernyms.update([h for idx, h in enumerate(path) if h != synset and idx<=max_distance])\n",
      "    return hypernyms\n",
      "\n",
      "\n",
      "def fd_hypernyms(fd, depth=None, min_depth=0, max_distance=100, pos=None):\n",
      "    \"\"\"\n",
      "    Takes a frequency distribution and analyzes the hypernyms of the wordforms contained therein. \n",
      "    Returns a weighted \n",
      "    fd - frequency distribution\n",
      "    depth - How far down fd to look\n",
      "    min_depth - A filter to only include synsets of a certain depth.\n",
      "                Unintuitively, max_depth is used to calculate the depth of a synset. \n",
      "    max_distance - The greatest distance a hypernym in the list can be from the synset. \n",
      "    pos - part of speech to limit sysnsets to\n",
      "    \"\"\"\n",
      "    hypernyms = {}\n",
      "    for wf in fd.keys()[0:depth]:\n",
      "        freq = fd.freq(wf)\n",
      "        hset = get_hypernyms(wn.synsets(wf, pos=pos), max_distance=max_distance)\n",
      "        for h in hset:\n",
      "            if h.max_depth()>=min_depth:\n",
      "                if h in hypernyms:\n",
      "                    hypernyms[h] += freq\n",
      "                else:\n",
      "                    hypernyms[h] = freq\n",
      "    \n",
      "    hlist = hypernyms.items()\n",
      "    hlist.sort(key=lambda s: s[1], reverse=True)\n",
      "    return hlist\n",
      "\n",
      "\n",
      "def concept_printer(concepts, n=20):\n",
      "    \"Prints first n concepts in concept list generated by fd_hypernyms\"\n",
      "    print \"{:<20} | {:<10} | {}\".format(\"Concept\", \"Concept Freq\", \"Definition\")\n",
      "    print \"====================================================================\"\n",
      "    for s in concepts[0:n]:\n",
      "        print \"{:<20} | {:<12.3%} |  {}\".format(s[0].lemma_names[0], s[1], s[0].definition)"
     ],
     "language": "python",
     "metadata": {},
     "outputs": [],
     "prompt_number": 39
    },
    {
     "cell_type": "code",
     "collapsed": false,
     "input": [
      "concepts = fd_hypernyms(fd, depth=500, max_distance=4, min_depth=4)\n",
      "concept_printer(concepts)"
     ],
     "language": "python",
     "metadata": {},
     "outputs": [
      {
       "output_type": "stream",
       "stream": "stdout",
       "text": [
        "Concept              | Concept Freq | Definition\n",
        "====================================================================\n",
        "artifact             | 6.817%       |  a man-made object taken as a whole\n",
        "living_thing         | 5.477%       |  a living (or once living) entity\n",
        "act                  | 5.372%       |  something that people do or cause to happen\n",
        "person               | 5.185%       |  a human being\n",
        "content              | 4.789%       |  the sum or range of what has been perceived, discovered, or learned\n",
        "tell                 | 2.412%       |  let something be known\n",
        "condition            | 2.237%       |  a state at a particular time\n",
        "process              | 2.237%       |  (psychology) the performance of some composite cognitive activity; an operation that affects mental contents\n",
        "happening            | 1.993%       |  an event that happens\n",
        "time_period          | 1.818%       |  an amount of time\n",
        "body_part            | 1.725%       |  any part of an organism such as an organ or extremity\n",
        "natural_object       | 1.631%       |  an object occurring naturally; not made by man\n",
        "region               | 1.608%       |  a large indefinite location on the surface of the Earth\n",
        "request              | 1.503%       |  express the need or desire for; ask for\n",
        "substance            | 1.445%       |  the real physical matter of which a person or thing consists\n",
        "writing              | 1.328%       |  the work of a writer; anything expressed in letters of the alphabet (especially when considered from the point of view of style and effect)\n",
        "number               | 1.305%       |  a concept of quantity involving zero and units\n",
        "point                | 1.247%       |  the precise location of something; a spatially limited location\n",
        "information          | 1.119%       |  knowledge acquired through study or experience or instruction\n",
        "material             | 1.107%       |  the tangible substance that goes into the makeup of a physical object\n"
       ]
      }
     ],
     "prompt_number": 78
    },
    {
     "cell_type": "markdown",
     "metadata": {},
     "source": [
      "##Reflection\n",
      "\n",
      "I tweaked some of the arguments to this method which perhaps makes it not the best for automatic concept extraction. I need to think more about ways to exclude hypernyms too high on the tree or on finding good defaults for this function. "
     ]
    }
   ],
   "metadata": {}
  }
 ]
}