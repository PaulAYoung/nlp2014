{
 "metadata": {
  "gist_id": "9a05c5bf75fb62d520fb",
  "name": "",
  "signature": "sha256:a4b17fb7c3bb2cd7ecd26b77650873f8c1f430b4966bcb2f43be4c1943985761"
 },
 "nbformat": 3,
 "nbformat_minor": 0,
 "worksheets": [
  {
   "cells": [
    {
     "cell_type": "code",
     "collapsed": false,
     "input": [
      "import nltk\n",
      "from nltk.corpus import names\n",
      "import random\n",
      "import re"
     ],
     "language": "python",
     "metadata": {},
     "outputs": [],
     "prompt_number": 1
    },
    {
     "cell_type": "markdown",
     "metadata": {},
     "source": [
      "** A feature recognition function **"
     ]
    },
    {
     "cell_type": "code",
     "collapsed": false,
     "input": [
      "def gender_features(word):\n",
      "    return {'last_letter': word[-1]}\n",
      "gender_features('Samantha')"
     ],
     "language": "python",
     "metadata": {},
     "outputs": [
      {
       "metadata": {},
       "output_type": "pyout",
       "prompt_number": 2,
       "text": [
        "{'last_letter': 'a'}"
       ]
      }
     ],
     "prompt_number": 2
    },
    {
     "cell_type": "markdown",
     "metadata": {},
     "source": [
      "** Create name datasets ** "
     ]
    },
    {
     "cell_type": "code",
     "collapsed": false,
     "input": [
      "def create_name_data():\n",
      "    male_names = [(name, 'male') for name in names.words('male.txt')]\n",
      "    female_names = [(name, 'female') for name in names.words('female.txt')]\n",
      "    allnames = male_names + female_names\n",
      "    \n",
      "    # Randomize the order of male and female names, and de-alphabatize\n",
      "    random.shuffle(allnames)\n",
      "    return allnames\n",
      "\n",
      "names_data = create_name_data()"
     ],
     "language": "python",
     "metadata": {},
     "outputs": [],
     "prompt_number": 38
    },
    {
     "cell_type": "markdown",
     "metadata": {},
     "source": [
      "** First Pass at Training and Testing Data **"
     ]
    },
    {
     "cell_type": "code",
     "collapsed": false,
     "input": [
      "\n",
      "# This function allows experimentation with different feature definitions\n",
      "# items is a list of (key, value) pairs from which features are extracted and training sets are made\n",
      "def create_training_sets (feature_function, items):\n",
      "    # Create the features sets.  Call the function that was passed in.\n",
      "    # For names, key is the name, and value is the gender\n",
      "    featuresets = [(feature_function(key), value) for (key, value) in items]\n",
      "    \n",
      "    # Divided training and testing in half.  Could divide in other proportions instead.\n",
      "    halfsize = int(float(len(featuresets)) / 2.0)\n",
      "    train_set, test_set = featuresets[halfsize:], featuresets[:halfsize]\n",
      "    return train_set, test_set"
     ],
     "language": "python",
     "metadata": {},
     "outputs": [],
     "prompt_number": 4
    },
    {
     "cell_type": "markdown",
     "metadata": {},
     "source": [
      "** Train the classifier on the training data, with the first definition of features  **"
     ]
    },
    {
     "cell_type": "code",
     "collapsed": false,
     "input": [
      "# pass in a function name\n",
      "train_set, test_set = create_training_sets(gender_features, names_data)\n",
      "cl = nltk.NaiveBayesClassifier.train(train_set)"
     ],
     "language": "python",
     "metadata": {},
     "outputs": [],
     "prompt_number": 5
    },
    {
     "cell_type": "markdown",
     "metadata": {},
     "source": [
      "** Test the classifier on some examples **"
     ]
    },
    {
     "cell_type": "code",
     "collapsed": false,
     "input": [
      "print cl.classify(gender_features('Carl'))\n",
      "print cl.classify(gender_features('Carla'))\n",
      "print cl.classify(gender_features('Carly'))\n",
      "print cl.classify(gender_features('Carlo'))\n",
      "print cl.classify(gender_features('Carlos'))\n"
     ],
     "language": "python",
     "metadata": {},
     "outputs": [
      {
       "output_type": "stream",
       "stream": "stdout",
       "text": [
        "female\n",
        "female\n",
        "female\n",
        "male\n",
        "male\n"
       ]
      }
     ],
     "prompt_number": 6
    },
    {
     "cell_type": "code",
     "collapsed": false,
     "input": [
      "print cl.classify(gender_features('Carli'))\n",
      "print cl.classify(gender_features('Carle'))\n",
      "print cl.classify(gender_features('Charles'))\n",
      "print cl.classify(gender_features('Carlie'))\n",
      "print cl.classify(gender_features('Charlie'))"
     ],
     "language": "python",
     "metadata": {},
     "outputs": [
      {
       "output_type": "stream",
       "stream": "stdout",
       "text": [
        "female\n",
        "female\n",
        "male\n",
        "female\n",
        "female\n"
       ]
      }
     ],
     "prompt_number": 7
    },
    {
     "cell_type": "markdown",
     "metadata": {},
     "source": [
      "** Run the NLTK evaluation function on the test set **"
     ]
    },
    {
     "cell_type": "code",
     "collapsed": false,
     "input": [
      "print \"%.3f\" % nltk.classify.accuracy(cl, test_set)"
     ],
     "language": "python",
     "metadata": {},
     "outputs": [
      {
       "output_type": "stream",
       "stream": "stdout",
       "text": [
        "0.760\n"
       ]
      }
     ],
     "prompt_number": 8
    },
    {
     "cell_type": "markdown",
     "metadata": {},
     "source": [
      "** Run the NLTK feature inspection function on the classifier **"
     ]
    },
    {
     "cell_type": "code",
     "collapsed": false,
     "input": [
      "cl.show_most_informative_features(15)"
     ],
     "language": "python",
     "metadata": {},
     "outputs": [
      {
       "output_type": "stream",
       "stream": "stdout",
       "text": [
        "Most Informative Features\n",
        "             last_letter = 'k'              male : female =     35.5 : 1.0\n",
        "             last_letter = 'a'            female : male   =     33.9 : 1.0\n",
        "             last_letter = 'f'              male : female =     14.5 : 1.0\n",
        "             last_letter = 'p'              male : female =     12.2 : 1.0\n",
        "             last_letter = 'w'              male : female =     12.2 : 1.0\n",
        "             last_letter = 'v'              male : female =      9.9 : 1.0\n",
        "             last_letter = 'm'              male : female =      8.9 : 1.0\n",
        "             last_letter = 'd'              male : female =      8.4 : 1.0\n",
        "             last_letter = 'z'              male : female =      7.6 : 1.0\n",
        "             last_letter = 'r'              male : female =      7.4 : 1.0\n",
        "             last_letter = 'o'              male : female =      7.4 : 1.0\n",
        "             last_letter = 'i'            female : male   =      3.9 : 1.0\n",
        "             last_letter = 'g'              male : female =      3.9 : 1.0\n",
        "             last_letter = 's'              male : female =      3.8 : 1.0\n",
        "             last_letter = 't'              male : female =      3.7 : 1.0\n"
       ]
      }
     ],
     "prompt_number": 9
    },
    {
     "cell_type": "markdown",
     "metadata": {},
     "source": [
      "** Let's add some more features to improve results **"
     ]
    },
    {
     "cell_type": "code",
     "collapsed": false,
     "input": [
      "def gender_features2(word):\n",
      "    features = {}\n",
      "    word = word.lower()\n",
      "    features['last'] = word[-1]\n",
      "    features['first'] = word[:1]\n",
      "    features['second'] = word[1:2] # get the 'h' in Charlie?\n",
      "    return features\n",
      "gender_features2('Samantha')"
     ],
     "language": "python",
     "metadata": {},
     "outputs": [
      {
       "metadata": {},
       "output_type": "pyout",
       "prompt_number": 10,
       "text": [
        "{'first': 's', 'last': 'a', 'second': 'a'}"
       ]
      }
     ],
     "prompt_number": 10
    },
    {
     "cell_type": "markdown",
     "metadata": {},
     "source": [
      "** We wrote the code so that we can easily pass in the new feature function. **"
     ]
    },
    {
     "cell_type": "code",
     "collapsed": false,
     "input": [
      "train_set2, test_set2 = create_training_sets(gender_features2, names_data)\n",
      "cl2 = nltk.NaiveBayesClassifier.train(train_set2)\n",
      "print \"%.3f\" % nltk.classify.accuracy(cl2, test_set2)"
     ],
     "language": "python",
     "metadata": {},
     "outputs": [
      {
       "output_type": "stream",
       "stream": "stdout",
       "text": [
        "0.771\n"
       ]
      }
     ],
     "prompt_number": 11
    },
    {
     "cell_type": "markdown",
     "metadata": {},
     "source": [
      "** Let's hand check some of the harder cases ... oops some are right but some are now wrong. **"
     ]
    },
    {
     "cell_type": "code",
     "collapsed": false,
     "input": [
      "print cl2.classify(gender_features2('Carli'))\n",
      "print cl2.classify(gender_features2('Carle'))\n",
      "print cl2.classify(gender_features2('Charles')) \n",
      "print cl2.classify(gender_features2('Carlie'))\n",
      "print cl2.classify(gender_features2('Charlie'))"
     ],
     "language": "python",
     "metadata": {},
     "outputs": [
      {
       "output_type": "stream",
       "stream": "stdout",
       "text": [
        "female\n",
        "female\n",
        "male\n",
        "female\n",
        "female\n"
       ]
      }
     ],
     "prompt_number": 12
    },
    {
     "cell_type": "markdown",
     "metadata": {},
     "source": [
      "** We can see the influence of some of the new features **"
     ]
    },
    {
     "cell_type": "code",
     "collapsed": false,
     "input": [
      "cl2.show_most_informative_features(15)"
     ],
     "language": "python",
     "metadata": {},
     "outputs": [
      {
       "output_type": "stream",
       "stream": "stdout",
       "text": [
        "Most Informative Features\n",
        "                    last = 'k'              male : female =     35.5 : 1.0\n",
        "                    last = 'a'            female : male   =     33.9 : 1.0\n",
        "                    last = 'f'              male : female =     14.5 : 1.0\n",
        "                    last = 'p'              male : female =     12.2 : 1.0\n",
        "                    last = 'w'              male : female =     12.2 : 1.0\n",
        "                    last = 'v'              male : female =      9.9 : 1.0\n",
        "                    last = 'm'              male : female =      8.9 : 1.0\n",
        "                    last = 'd'              male : female =      8.4 : 1.0\n",
        "                    last = 'z'              male : female =      7.6 : 1.0\n",
        "                    last = 'r'              male : female =      7.4 : 1.0\n",
        "                    last = 'o'              male : female =      7.4 : 1.0\n",
        "                   first = 'w'              male : female =      4.1 : 1.0\n",
        "                    last = 'i'            female : male   =      3.9 : 1.0\n",
        "                    last = 'g'              male : female =      3.9 : 1.0\n",
        "                  second = 'z'              male : female =      3.8 : 1.0\n"
       ]
      }
     ],
     "prompt_number": 13
    },
    {
     "cell_type": "markdown",
     "metadata": {},
     "source": [
      "** We really need a development set to test our features on before testing on the real test set. So let's redo our division of the data.  In this case we do the dividing up before applying the feature selection so we can keep track of the names. **"
     ]
    },
    {
     "cell_type": "code",
     "collapsed": false,
     "input": [
      "def create_training_sets3 (feature_function, items):\n",
      "    # Create the features sets.  Call the function that was passed in.\n",
      "    # For names, key is the name, and value is the gender\n",
      "    featuresets = [(feature_function(key), value) for (key, value) in items]\n",
      "    \n",
      "    # Divide data into thirds\n",
      "    third = int(float(len(featuresets)) / 3.0)\n",
      "    return items[0:third], items[third:third*2], items[third*2:], featuresets[0:third], featuresets[third:third*2], featuresets[third*2:]\n",
      "    \n",
      "train_items, dev_items, test_items, train_features, dev_features, test_features = create_training_sets3(gender_features2, names_data)\n"
     ],
     "language": "python",
     "metadata": {},
     "outputs": [],
     "prompt_number": 14
    },
    {
     "cell_type": "code",
     "collapsed": false,
     "input": [
      "cl3 = nltk.NaiveBayesClassifier.train(train_features)\n",
      "# This is code from the NLTK chapter\n",
      "errors = []\n",
      "for (name, tag) in dev_items:\n",
      "    guess = cl3.classify(gender_features2(name))\n",
      "    if guess != tag:\n",
      "        errors.append( (tag, guess, name) )"
     ],
     "language": "python",
     "metadata": {},
     "outputs": [],
     "prompt_number": 15
    },
    {
     "cell_type": "markdown",
     "metadata": {},
     "source": [
      "** Print out the correct vs. the guessed answer for the errors, in order to inspect those that were wrong. **"
     ]
    },
    {
     "cell_type": "code",
     "collapsed": false,
     "input": [
      "for (tag, guess, name) in sorted(errors)[:50]: \n",
      "    print 'correct=%-8s guess=%-8s name=%-30s' % (tag, guess, name)"
     ],
     "language": "python",
     "metadata": {},
     "outputs": [
      {
       "output_type": "stream",
       "stream": "stdout",
       "text": [
        "correct=female   guess=male     name=Abagail                       \n",
        "correct=female   guess=male     name=Abbe                          \n",
        "correct=female   guess=male     name=Abby                          \n",
        "correct=female   guess=male     name=Aileen                        \n",
        "correct=female   guess=male     name=Allys                         \n",
        "correct=female   guess=male     name=Alyss                         \n",
        "correct=female   guess=male     name=Ambur                         \n",
        "correct=female   guess=male     name=Anais                         \n",
        "correct=female   guess=male     name=Ardelis                       \n",
        "correct=female   guess=male     name=Ardith                        \n",
        "correct=female   guess=male     name=Ariel                         \n",
        "correct=female   guess=male     name=Arleen                        \n",
        "correct=female   guess=male     name=Aryn                          \n",
        "correct=female   guess=male     name=Ashleigh                      \n",
        "correct=female   guess=male     name=Astrid                        \n",
        "correct=female   guess=male     name=Astrix                        \n",
        "correct=female   guess=male     name=Aurel                         \n",
        "correct=female   guess=male     name=Austin                        \n",
        "correct=female   guess=male     name=Averyl                        \n",
        "correct=female   guess=male     name=Avivah                        \n",
        "correct=female   guess=male     name=Avrit                         \n",
        "correct=female   guess=male     name=Barb                          \n",
        "correct=female   guess=male     name=Beilul                        \n",
        "correct=female   guess=male     name=Bell                          \n",
        "correct=female   guess=male     name=Bess                          \n",
        "correct=female   guess=male     name=Bette-Ann                     \n",
        "correct=female   guess=male     name=Beulah                        \n",
        "correct=female   guess=male     name=Birgit                        \n",
        "correct=female   guess=male     name=Bren                          \n",
        "correct=female   guess=male     name=Bridget                       \n",
        "correct=female   guess=male     name=Bridgett                      \n",
        "correct=female   guess=male     name=Brigid                        \n",
        "correct=female   guess=male     name=Britt                         \n",
        "correct=female   guess=male     name=Brittan                       \n",
        "correct=female   guess=male     name=Brittany                      \n",
        "correct=female   guess=male     name=Brittney                      \n",
        "correct=female   guess=male     name=Brooks                        \n",
        "correct=female   guess=male     name=Cameo                         \n",
        "correct=female   guess=male     name=Caro                          \n",
        "correct=female   guess=male     name=Chad                          \n",
        "correct=female   guess=male     name=Charis                        \n",
        "correct=female   guess=male     name=Charlot                       \n",
        "correct=female   guess=male     name=Charlott                      \n",
        "correct=female   guess=male     name=Chris                         \n",
        "correct=female   guess=male     name=Clem                          \n",
        "correct=female   guess=male     name=Cleo                          \n",
        "correct=female   guess=male     name=Clo                           \n",
        "correct=female   guess=male     name=Corliss                       \n",
        "correct=female   guess=male     name=Cyb                           \n",
        "correct=female   guess=male     name=Dagmar                        \n"
       ]
      }
     ],
     "prompt_number": 45
    },
    {
     "cell_type": "markdown",
     "metadata": {},
     "source": [
      "** Exercise** Rewrite the functions above to add some additional features, and then rerun the classifier to evaluate if they improve or degrade results.  But don't overfit!\n",
      "\n",
      "Ideas for features:\n",
      "* name length\n",
      "* pairs of characters\n",
      "* your idea goes here"
     ]
    },
    {
     "cell_type": "markdown",
     "metadata": {},
     "source": [
      "####Features added:\n",
      "\n",
      "    -first three characters of name\n",
      "    -last three characters of name\n",
      "    -length of name\n",
      "    -the extracted vowels of a name. eg for Paul it would be 'au'\n",
      "    \n",
      "The starting and ending strings definitely increased the accuracy. Both length and the vowels check appeared to increase accuracy but I re-randomized the data a few times and found they didn't really hold up. "
     ]
    },
    {
     "cell_type": "code",
     "collapsed": false,
     "input": [
      "def gender_features3(word):\n",
      "    features = {}\n",
      "    word = word.lower()\n",
      "    features['last'] = word[-1]\n",
      "    features['first'] = word[0]\n",
      "    features['end'] = word[-3:]\n",
      "    features['start']= word[:2]\n",
      "    features['length'] = len(word)\n",
      "    features['vowels'] = \"\".join([c for c in word if c in 'aeiou'])\n",
      "    return features\n",
      "\n",
      "train_items, dev_items, test_items, train_features4, dev_features, test_features = create_training_sets3(gender_features3, names_data)\n",
      "cl4 = nltk.NaiveBayesClassifier.train(train_features4)"
     ],
     "language": "python",
     "metadata": {},
     "outputs": [],
     "prompt_number": 39
    },
    {
     "cell_type": "code",
     "collapsed": false,
     "input": [
      "gender_features3('Samantha')"
     ],
     "language": "python",
     "metadata": {},
     "outputs": [
      {
       "metadata": {},
       "output_type": "pyout",
       "prompt_number": 18,
       "text": [
        "{'end': 'tha',\n",
        " 'first': 's',\n",
        " 'last': 'a',\n",
        " 'length': 8,\n",
        " 'start': 'sa',\n",
        " 'vowels': 'aaa'}"
       ]
      }
     ],
     "prompt_number": 18
    },
    {
     "cell_type": "code",
     "collapsed": false,
     "input": [
      "nltk.classify.accuracy(cl4, test_features)"
     ],
     "language": "python",
     "metadata": {},
     "outputs": [
      {
       "metadata": {},
       "output_type": "pyout",
       "prompt_number": 40,
       "text": [
        "0.8058912386706949"
       ]
      }
     ],
     "prompt_number": 40
    },
    {
     "cell_type": "code",
     "collapsed": false,
     "input": [
      "cl4.show_most_informative_features(20)"
     ],
     "language": "python",
     "metadata": {},
     "outputs": [
      {
       "output_type": "stream",
       "stream": "stdout",
       "text": [
        "Most Informative Features\n",
        "                    last = 'a'            female : male   =     42.4 : 1.0\n",
        "                  vowels = 'ue'             male : female =     17.9 : 1.0\n",
        "                  vowels = 'eo'             male : female =     16.6 : 1.0\n",
        "                    last = 'm'              male : female =     15.4 : 1.0\n",
        "                  vowels = 'eia'          female : male   =     15.0 : 1.0\n",
        "                     end = 'nne'          female : male   =     14.4 : 1.0\n",
        "                    last = 'k'              male : female =     14.1 : 1.0\n",
        "                     end = 'son'            male : female =     12.6 : 1.0\n",
        "                     end = 'ert'            male : female =     12.6 : 1.0\n",
        "                  vowels = 'au'             male : female =     12.5 : 1.0\n",
        "                   start = 'ka'           female : male   =     12.0 : 1.0\n",
        "                  vowels = 'io'             male : female =     10.7 : 1.0\n",
        "                    last = 'o'              male : female =      9.5 : 1.0\n",
        "                    last = 'v'              male : female =      8.6 : 1.0\n",
        "                    last = 'b'              male : female =      7.9 : 1.0\n",
        "                    last = 'd'              male : female =      7.4 : 1.0\n",
        "                   start = 'wa'             male : female =      7.3 : 1.0\n",
        "                  vowels = 'uo'             male : female =      7.0 : 1.0\n",
        "                  vowels = 'aia'          female : male   =      6.9 : 1.0\n",
        "                   start = 'th'             male : female =      6.9 : 1.0\n"
       ]
      }
     ],
     "prompt_number": 41
    },
    {
     "cell_type": "code",
     "collapsed": false,
     "input": [
      "errors4 = []\n",
      "for (name, tag) in dev_items:\n",
      "    guess = cl4.classify(gender_features3(name))\n",
      "    if guess != tag:\n",
      "        errors4.append( (tag, guess, name) )\n",
      "\n",
      "for (tag, guess, name) in sorted(errors)[:50]:\n",
      "    print 'correct=%-8s guess=%-8s name=%-30s' % (tag, guess, name)"
     ],
     "language": "python",
     "metadata": {},
     "outputs": [
      {
       "output_type": "stream",
       "stream": "stdout",
       "text": [
        "correct=female   guess=male     name=Abagail                       \n",
        "correct=female   guess=male     name=Abbe                          \n",
        "correct=female   guess=male     name=Abby                          \n",
        "correct=female   guess=male     name=Aileen                        \n",
        "correct=female   guess=male     name=Allys                         \n",
        "correct=female   guess=male     name=Alyss                         \n",
        "correct=female   guess=male     name=Ambur                         \n",
        "correct=female   guess=male     name=Anais                         \n",
        "correct=female   guess=male     name=Ardelis                       \n",
        "correct=female   guess=male     name=Ardith                        \n",
        "correct=female   guess=male     name=Ariel                         \n",
        "correct=female   guess=male     name=Arleen                        \n",
        "correct=female   guess=male     name=Aryn                          \n",
        "correct=female   guess=male     name=Ashleigh                      \n",
        "correct=female   guess=male     name=Astrid                        \n",
        "correct=female   guess=male     name=Astrix                        \n",
        "correct=female   guess=male     name=Aurel                         \n",
        "correct=female   guess=male     name=Austin                        \n",
        "correct=female   guess=male     name=Averyl                        \n",
        "correct=female   guess=male     name=Avivah                        \n",
        "correct=female   guess=male     name=Avrit                         \n",
        "correct=female   guess=male     name=Barb                          \n",
        "correct=female   guess=male     name=Beilul                        \n",
        "correct=female   guess=male     name=Bell                          \n",
        "correct=female   guess=male     name=Bess                          \n",
        "correct=female   guess=male     name=Bette-Ann                     \n",
        "correct=female   guess=male     name=Beulah                        \n",
        "correct=female   guess=male     name=Birgit                        \n",
        "correct=female   guess=male     name=Bren                          \n",
        "correct=female   guess=male     name=Bridget                       \n",
        "correct=female   guess=male     name=Bridgett                      \n",
        "correct=female   guess=male     name=Brigid                        \n",
        "correct=female   guess=male     name=Britt                         \n",
        "correct=female   guess=male     name=Brittan                       \n",
        "correct=female   guess=male     name=Brittany                      \n",
        "correct=female   guess=male     name=Brittney                      \n",
        "correct=female   guess=male     name=Brooks                        \n",
        "correct=female   guess=male     name=Cameo                         \n",
        "correct=female   guess=male     name=Caro                          \n",
        "correct=female   guess=male     name=Chad                          \n",
        "correct=female   guess=male     name=Charis                        \n",
        "correct=female   guess=male     name=Charlot                       \n",
        "correct=female   guess=male     name=Charlott                      \n",
        "correct=female   guess=male     name=Chris                         \n",
        "correct=female   guess=male     name=Clem                          \n",
        "correct=female   guess=male     name=Cleo                          \n",
        "correct=female   guess=male     name=Clo                           \n",
        "correct=female   guess=male     name=Corliss                       \n",
        "correct=female   guess=male     name=Cyb                           \n",
        "correct=female   guess=male     name=Dagmar                        \n"
       ]
      }
     ],
     "prompt_number": 44
    },
    {
     "cell_type": "code",
     "collapsed": false,
     "input": [
      "for i in range(1,16):\n",
      "    ds = create_name_data()\n",
      "    train_items, dev_items, test_items, train_features4, dev_features, test_features2 = create_training_sets3(gender_features3, ds)\n",
      "    cl4 = nltk.NaiveBayesClassifier.train(train_features)\n",
      "    accuracy = nltk.classify.accuracy(cl4, test_features2)\n",
      "    print \"Run {} accuracy: {:0.3%}\".format(i, accuracy)\n",
      "    "
     ],
     "language": "python",
     "metadata": {},
     "outputs": [
      {
       "output_type": "stream",
       "stream": "stdout",
       "text": [
        "Run 1 accuracy: 79.456%\n",
        "Run 2 accuracy: 77.795%"
       ]
      },
      {
       "output_type": "stream",
       "stream": "stdout",
       "text": [
        "\n",
        "Run 3 accuracy: 78.361%"
       ]
      },
      {
       "output_type": "stream",
       "stream": "stdout",
       "text": [
        "\n",
        "Run 4 accuracy: 79.305%"
       ]
      },
      {
       "output_type": "stream",
       "stream": "stdout",
       "text": [
        "\n",
        "Run 5 accuracy: 77.530%"
       ]
      },
      {
       "output_type": "stream",
       "stream": "stdout",
       "text": [
        "\n",
        "Run 6 accuracy: 78.663%"
       ]
      },
      {
       "output_type": "stream",
       "stream": "stdout",
       "text": [
        "\n",
        "Run 7 accuracy: 77.190%"
       ]
      },
      {
       "output_type": "stream",
       "stream": "stdout",
       "text": [
        "\n",
        "Run 8 accuracy: 78.814%"
       ]
      },
      {
       "output_type": "stream",
       "stream": "stdout",
       "text": [
        "\n",
        "Run 9 accuracy: 78.399%"
       ]
      },
      {
       "output_type": "stream",
       "stream": "stdout",
       "text": [
        "\n",
        "Run 10 accuracy: 78.361%"
       ]
      },
      {
       "output_type": "stream",
       "stream": "stdout",
       "text": [
        "\n",
        "Run 11 accuracy: 77.795%"
       ]
      },
      {
       "output_type": "stream",
       "stream": "stdout",
       "text": [
        "\n",
        "Run 12 accuracy: 77.757%"
       ]
      },
      {
       "output_type": "stream",
       "stream": "stdout",
       "text": [
        "\n",
        "Run 13 accuracy: 78.965%"
       ]
      },
      {
       "output_type": "stream",
       "stream": "stdout",
       "text": [
        "\n",
        "Run 14 accuracy: 78.512%"
       ]
      },
      {
       "output_type": "stream",
       "stream": "stdout",
       "text": [
        "\n",
        "Run 15 accuracy: 78.965%"
       ]
      },
      {
       "output_type": "stream",
       "stream": "stdout",
       "text": [
        "\n"
       ]
      }
     ],
     "prompt_number": 43
    }
   ],
   "metadata": {}
  }
 ]
}