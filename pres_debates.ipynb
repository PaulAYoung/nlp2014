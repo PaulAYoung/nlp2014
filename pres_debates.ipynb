{
 "metadata": {
  "name": "",
  "signature": "sha256:8dec33864c2f7976fade74dead90229019b18ea3523a60fd8ae79a10b4954883"
 },
 "nbformat": 3,
 "nbformat_minor": 0,
 "worksheets": [
  {
   "cells": [
    {
     "cell_type": "markdown",
     "metadata": {},
     "source": [
      "#Gather Presidential Debate Transcripts from http://www.debates.org/\n",
      "\n",
      "This script downloads transcripts of debates hosted at debates.org"
     ]
    },
    {
     "cell_type": "code",
     "collapsed": false,
     "input": [
      "import os\n",
      "from os import path\n",
      "import time\n",
      "\n",
      "from bs4 import BeautifulSoup\n",
      "import requests"
     ],
     "language": "python",
     "metadata": {},
     "outputs": [],
     "prompt_number": 1
    },
    {
     "cell_type": "code",
     "collapsed": false,
     "input": [
      "#page with list of debates\n",
      "debates_url= \"http://www.debates.org/index.php?page=debate-transcripts\""
     ],
     "language": "python",
     "metadata": {},
     "outputs": [],
     "prompt_number": 2
    },
    {
     "cell_type": "code",
     "collapsed": false,
     "input": [
      "outdir = path.join(path.curdir, \"pres_debates\")\n",
      "\n",
      "#check if path exists and create if not\n",
      "if not path.exists(outdir):\n",
      "    os.makedirs(outdir)"
     ],
     "language": "python",
     "metadata": {},
     "outputs": [],
     "prompt_number": 3
    },
    {
     "cell_type": "code",
     "collapsed": false,
     "input": [
      "#load \n",
      "debates_page = BeautifulSoup(\n",
      "    requests.get(debates_url).content\n",
      ")"
     ],
     "language": "python",
     "metadata": {},
     "outputs": [],
     "prompt_number": 4
    },
    {
     "cell_type": "code",
     "collapsed": false,
     "input": [
      "debates_list = debates_page.find('div', attrs={\"id\": \"content-sm\"}).find_all('a')"
     ],
     "language": "python",
     "metadata": {},
     "outputs": [],
     "prompt_number": 5
    },
    {
     "cell_type": "code",
     "collapsed": false,
     "input": [
      "for debate in debates_list:\n",
      "    url = debate.attrs['href']\n",
      "    \n",
      "    # One of the links goes to translations for the years debate, we'll skip that one\n",
      "    if \"translate\" in debate.text:\n",
      "        continue\n",
      "    \n",
      "    # Some of the links are relative, this checks for that\n",
      "    if not url.startswith('http'):\n",
      "        url = \"http://www.debates.org/\" + url\n",
      "    \n",
      "    title = debate.text.replace(\" \", \"_\")\n",
      "    outpath= path.join(outdir, title + \".txt\")\n",
      "    outfile = open(outpath, \"w\")\n",
      "    \n",
      "    print \"Downloading {} at {}\". format(title, url)\n",
      "    \n",
      "    debate_text = BeautifulSoup(\n",
      "        requests.get(url).content\n",
      "    ).find('div', attrs={\"id\": \"content-sm\"})\n",
      "    \n",
      "    outfile.write(str(debate_text))\n",
      "    outfile.close()\n",
      "    \n",
      "    time.sleep(1)"
     ],
     "language": "python",
     "metadata": {},
     "outputs": [
      {
       "output_type": "stream",
       "stream": "stdout",
       "text": [
        "Downloading October_3,_2012:_The_First_Obama-Romney_Presidential_Debate at http://www.debates.org/index.php?page=october-3-2012-debate-transcript\n",
        "Downloading October_11,_2012:_The_Biden-Ryan_Vice_Presidential_Debate at http://www.debates.org/index.php?page=october-11-2012-the-biden-romney-vice-presidential-debate"
       ]
      },
      {
       "output_type": "stream",
       "stream": "stdout",
       "text": [
        "\n",
        "Downloading October_16,_2012:_The_Second_Obama-Romney_Presidential_Debate at http://www.debates.org/index.php?page=october-1-2012-the-second-obama-romney-presidential-debate"
       ]
      },
      {
       "output_type": "stream",
       "stream": "stdout",
       "text": [
        "\n",
        "Downloading October_22,_2012:_The_Third_Obama-Romney_Presidential_Debate at http://www.debates.org/index.php?page=october-22-2012-the-third-obama-romney-presidential-debate"
       ]
      },
      {
       "output_type": "stream",
       "stream": "stdout",
       "text": [
        "\n",
        "Downloading September_26,_2008:_The_First_McCain-Obama_Presidential_Debate at http://www.debates.org/index.php?page=2008-debate-transcript"
       ]
      },
      {
       "output_type": "stream",
       "stream": "stdout",
       "text": [
        "\n",
        "Downloading October_2,_2008:_The_Biden-Palin_Vice_Presidential_Debate at http://www.debates.org/index.php?page=2008-debate-transcript-2"
       ]
      },
      {
       "output_type": "stream",
       "stream": "stdout",
       "text": [
        "\n",
        "Downloading October_7,_2008:_The_Second_McCain-Obama_Presidential_Debate at http://www.debates.org/index.php?page=october-7-2008-debate-transcrip"
       ]
      },
      {
       "output_type": "stream",
       "stream": "stdout",
       "text": [
        "\n",
        "Downloading October_15,_2008:_The_Third_McCain-Obama_Presidential_Debate at http://www.debates.org/index.php?page=october-15-2008-debate-transcript"
       ]
      },
      {
       "output_type": "stream",
       "stream": "stdout",
       "text": [
        "\n",
        "Downloading October_13,_2004:_The_Third_Bush-Kerry_Presidential_Debate at http://www.debates.org/index.php?page=october-13-2004-debate-transcript"
       ]
      },
      {
       "output_type": "stream",
       "stream": "stdout",
       "text": [
        "\n",
        "Downloading October_8,_2004:_The_Second_Bush-Kerry_Presidential_Debate at http://www.debates.org/index.php?page=october-8-2004-debate-transcript"
       ]
      },
      {
       "output_type": "stream",
       "stream": "stdout",
       "text": [
        "\n",
        "Downloading October_5,_2004:_The_Cheney-Edwards_Vice_Presidential_Debate at http://www.debates.org/index.php?page=october-5-2004-transcript"
       ]
      },
      {
       "output_type": "stream",
       "stream": "stdout",
       "text": [
        "\n",
        "Downloading September_30,_2004:_The_First_Bush-Kerry_Presidential_Debate at http://www.debates.org/index.php?page=september-30-2004-debate-transcript"
       ]
      },
      {
       "output_type": "stream",
       "stream": "stdout",
       "text": [
        "\n",
        "Downloading October_3,_2000:_The_First_Gore-Bush_Presidential_Debate at http://www.debates.org/index.php?page=october-3-2000-transcript"
       ]
      },
      {
       "output_type": "stream",
       "stream": "stdout",
       "text": [
        "\n",
        "Downloading October_5,_2000:_The_Lieberman-Cheney_Vice_Presidential_Debate at http://www.debates.org/index.php?page=october-5-2000-debate-transcript"
       ]
      },
      {
       "output_type": "stream",
       "stream": "stdout",
       "text": [
        "\n",
        "Downloading October_11,_2000:_The_Second_Gore-Bush_Presidential_Debate at http://www.debates.org/index.php?page=october-11-2000-debate-transcript"
       ]
      },
      {
       "output_type": "stream",
       "stream": "stdout",
       "text": [
        "\n",
        "Downloading October_17,_2000:_The_Third_Gore-Bush_Presidential_Debate at http://www.debates.org/index.php?page=october-17-2000-debate-transcript"
       ]
      },
      {
       "output_type": "stream",
       "stream": "stdout",
       "text": [
        "\n",
        "Downloading October_6,_1996:_The_First_Clinton-Dole_Presidential_Debate at http://www.debates.org/index.php?page=october-6-1996-debate-transcript"
       ]
      },
      {
       "output_type": "stream",
       "stream": "stdout",
       "text": [
        "\n",
        "Downloading October_9,_1996:_The_Gore-Kemp_Vice_Presidential_Debate at http://www.debates.org/index.php?page=october-9-1996-debate-transcript"
       ]
      },
      {
       "output_type": "stream",
       "stream": "stdout",
       "text": [
        "\n",
        "Downloading October_16,_1996:_The_Second_Clinton-Dole_Presidential_Debate at http://www.debates.org/index.php?page=october-16-1996-debate-transcript"
       ]
      },
      {
       "output_type": "stream",
       "stream": "stdout",
       "text": [
        "\n",
        "Downloading First_half_of_Debate at http://www.debates.org/index.php?page=october-11-1992-first-half-debate-transcript"
       ]
      },
      {
       "output_type": "stream",
       "stream": "stdout",
       "text": [
        "\n",
        "Downloading Second_half_of_Debate at http://www.debates.org/index.php?page=october-11-1992-second-half-debate-transcript"
       ]
      },
      {
       "output_type": "stream",
       "stream": "stdout",
       "text": [
        "\n",
        "Downloading October_13,_1992:_The_Gore-Quayle-Stockdale_Vice_Presidential_Debate at http://www.debates.org/index.php?page=october-13-1992-debate-transcript"
       ]
      },
      {
       "output_type": "stream",
       "stream": "stdout",
       "text": [
        "\n",
        "Downloading First_half_of_Debate at http://www.debates.org/index.php?page=october-15-1992-first-half-debate-transcript"
       ]
      },
      {
       "output_type": "stream",
       "stream": "stdout",
       "text": [
        "\n",
        "Downloading Second_half_of_Debate at http://www.debates.org/index.php?page=october-15-1992-second-half-debate-transcript"
       ]
      },
      {
       "output_type": "stream",
       "stream": "stdout",
       "text": [
        "\n",
        "Downloading October_19,_1992:_The_Third_Clinton-Bush-Perot_Presidential_Debate at http://www.debates.org/index.php?page=october-19-1992-debate-transcript"
       ]
      },
      {
       "output_type": "stream",
       "stream": "stdout",
       "text": [
        "\n",
        "Downloading September_25,_1988:_The_First_Bush-Dukakis_Presidential_Debate at http://www.debates.org/index.php?page=september-25-1988-debate-transcript"
       ]
      },
      {
       "output_type": "stream",
       "stream": "stdout",
       "text": [
        "\n",
        "Downloading October_5,_1988:_The_Bentsen-Quayle_Vice_Presidential_Debate at http://www.debates.org/index.php?page=october-5-1988-debate-transcripts"
       ]
      },
      {
       "output_type": "stream",
       "stream": "stdout",
       "text": [
        "\n",
        "Downloading October_13,_1988:_The_Second_Bush-Dukakis_Presidential_Debate at http://www.debates.org/index.php?page=october-13-1988-debate-transcript"
       ]
      },
      {
       "output_type": "stream",
       "stream": "stdout",
       "text": [
        "\n",
        "Downloading October_7,_1984:_The_First_Reagan-Mondale_Presidential_Debate at http://www.debates.org/index.php?page=october-7-1984-debate-transcript"
       ]
      },
      {
       "output_type": "stream",
       "stream": "stdout",
       "text": [
        "\n",
        "Downloading October_11,_1984:_The_Bush-Ferraro_Vice_Presidential_Debate at http://www.debates.org/index.php?page=october-11-1984-debate-transcript"
       ]
      },
      {
       "output_type": "stream",
       "stream": "stdout",
       "text": [
        "\n",
        "Downloading October_21,_1984:_The_Second_Reagan-Mondale_Presidential_Debate at http://www.debates.org/index.php?page=october-21-1984-debate-transcript"
       ]
      },
      {
       "output_type": "stream",
       "stream": "stdout",
       "text": [
        "\n",
        "Downloading September_21,_1980:_The_Anderson-Reagan_Presidential_Debate at http://www.debates.org/index.php?page=september-21-1980-debate-transcript"
       ]
      },
      {
       "output_type": "stream",
       "stream": "stdout",
       "text": [
        "\n",
        "Downloading October_28,_1980:_The_Carter-Reagan_Presidential_Debate at http://www.debates.org/index.php?page=october-28-1980-debate-transcript"
       ]
      },
      {
       "output_type": "stream",
       "stream": "stdout",
       "text": [
        "\n",
        "Downloading September_23,_1976:_The_First_Carter-Ford_Presidential_Debate at http://www.debates.org/index.php?page=september-23-1976-debate-transcript"
       ]
      },
      {
       "output_type": "stream",
       "stream": "stdout",
       "text": [
        "\n",
        "Downloading October_6,_1976:_The_Second_Carter-Ford_Presidential_Debate at http://www.debates.org/index.php?page=october-6-1976-debate-transcript"
       ]
      },
      {
       "output_type": "stream",
       "stream": "stdout",
       "text": [
        "\n",
        "Downloading October_22,_1976:_The_Third_Carter-Ford_Presidential_Debate at http://www.debates.org/index.php?page=october-22-1976-debate-transcript"
       ]
      },
      {
       "output_type": "stream",
       "stream": "stdout",
       "text": [
        "\n",
        "Downloading September_26,_1960:_The_First_Kennedy-Nixon_Presidential_Debate at http://www.debates.org/index.php?page=september-26-1960-debate-transcript"
       ]
      },
      {
       "output_type": "stream",
       "stream": "stdout",
       "text": [
        "\n",
        "Downloading October_7,_1960:_The_Second_Kennedy-Nixon_Presidential_Debate at http://www.debates.org/index.php?page=october-7-1960-debate-transcript"
       ]
      },
      {
       "output_type": "stream",
       "stream": "stdout",
       "text": [
        "\n",
        "Downloading October_13,_1960:_The_Third_Kennedy-Nixon_Presidential_Debate at http://www.debates.org/index.php?page=october-13-1960-debate-transcript"
       ]
      },
      {
       "output_type": "stream",
       "stream": "stdout",
       "text": [
        "\n",
        "Downloading October_21,_1960:_The_Fourth_Kennedy-Nixon_Presidential_Debate at http://www.debates.org/index.php?page=october-21-1960-debate-transcript"
       ]
      },
      {
       "output_type": "stream",
       "stream": "stdout",
       "text": [
        "\n"
       ]
      }
     ],
     "prompt_number": 8
    }
   ],
   "metadata": {}
  }
 ]
}